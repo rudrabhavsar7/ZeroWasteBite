{
 "cells": [
  {
   "cell_type": "code",
   "execution_count": 74,
   "id": "17a14a9f",
   "metadata": {},
   "outputs": [],
   "source": [
    "import pandas as pd\n"
   ]
  },
  {
   "cell_type": "code",
   "execution_count": 75,
   "id": "0f2b80b6",
   "metadata": {},
   "outputs": [
    {
     "data": {
      "text/html": [
       "<div>\n",
       "<style scoped>\n",
       "    .dataframe tbody tr th:only-of-type {\n",
       "        vertical-align: middle;\n",
       "    }\n",
       "\n",
       "    .dataframe tbody tr th {\n",
       "        vertical-align: top;\n",
       "    }\n",
       "\n",
       "    .dataframe thead th {\n",
       "        text-align: right;\n",
       "    }\n",
       "</style>\n",
       "<table border=\"1\" class=\"dataframe\">\n",
       "  <thead>\n",
       "    <tr style=\"text-align: right;\">\n",
       "      <th></th>\n",
       "      <th>food_type</th>\n",
       "      <th>storage</th>\n",
       "      <th>time_since_prep</th>\n",
       "      <th>is_sealed</th>\n",
       "      <th>environment</th>\n",
       "      <th>safeForHours</th>\n",
       "      <th>confidence</th>\n",
       "      <th>riskLevel</th>\n",
       "    </tr>\n",
       "  </thead>\n",
       "  <tbody>\n",
       "    <tr>\n",
       "      <th>0</th>\n",
       "      <td>raw</td>\n",
       "      <td>fridge</td>\n",
       "      <td>30.9</td>\n",
       "      <td>True</td>\n",
       "      <td>dry</td>\n",
       "      <td>7.7</td>\n",
       "      <td>0.70</td>\n",
       "      <td>medium</td>\n",
       "    </tr>\n",
       "    <tr>\n",
       "      <th>1</th>\n",
       "      <td>packaged</td>\n",
       "      <td>room_temp</td>\n",
       "      <td>27.6</td>\n",
       "      <td>False</td>\n",
       "      <td>humid</td>\n",
       "      <td>19.3</td>\n",
       "      <td>0.72</td>\n",
       "      <td>high</td>\n",
       "    </tr>\n",
       "    <tr>\n",
       "      <th>2</th>\n",
       "      <td>non_veg</td>\n",
       "      <td>fridge</td>\n",
       "      <td>23.1</td>\n",
       "      <td>False</td>\n",
       "      <td>dry</td>\n",
       "      <td>3.0</td>\n",
       "      <td>0.77</td>\n",
       "      <td>medium</td>\n",
       "    </tr>\n",
       "    <tr>\n",
       "      <th>3</th>\n",
       "      <td>cooked_veg</td>\n",
       "      <td>room_temp</td>\n",
       "      <td>34.0</td>\n",
       "      <td>True</td>\n",
       "      <td>humid</td>\n",
       "      <td>16.4</td>\n",
       "      <td>0.89</td>\n",
       "      <td>medium</td>\n",
       "    </tr>\n",
       "    <tr>\n",
       "      <th>4</th>\n",
       "      <td>non_veg</td>\n",
       "      <td>fridge</td>\n",
       "      <td>7.7</td>\n",
       "      <td>False</td>\n",
       "      <td>dry</td>\n",
       "      <td>21.4</td>\n",
       "      <td>0.88</td>\n",
       "      <td>low</td>\n",
       "    </tr>\n",
       "  </tbody>\n",
       "</table>\n",
       "</div>"
      ],
      "text/plain": [
       "    food_type    storage  time_since_prep  is_sealed environment  \\\n",
       "0         raw     fridge             30.9       True         dry   \n",
       "1    packaged  room_temp             27.6      False       humid   \n",
       "2     non_veg     fridge             23.1      False         dry   \n",
       "3  cooked_veg  room_temp             34.0       True       humid   \n",
       "4     non_veg     fridge              7.7      False         dry   \n",
       "\n",
       "   safeForHours  confidence riskLevel  \n",
       "0           7.7        0.70    medium  \n",
       "1          19.3        0.72      high  \n",
       "2           3.0        0.77    medium  \n",
       "3          16.4        0.89    medium  \n",
       "4          21.4        0.88       low  "
      ]
     },
     "execution_count": 75,
     "metadata": {},
     "output_type": "execute_result"
    }
   ],
   "source": [
    "df = pd.read_csv(\"food_safety_multitask_dataset.csv\")\n",
    "\n",
    "df.head()"
   ]
  },
  {
   "cell_type": "code",
   "execution_count": 76,
   "id": "1fe82ce9",
   "metadata": {},
   "outputs": [
    {
     "name": "stdout",
     "output_type": "stream",
     "text": [
      "<class 'pandas.core.frame.DataFrame'>\n",
      "RangeIndex: 360 entries, 0 to 359\n",
      "Data columns (total 8 columns):\n",
      " #   Column           Non-Null Count  Dtype  \n",
      "---  ------           --------------  -----  \n",
      " 0   food_type        360 non-null    object \n",
      " 1   storage          360 non-null    object \n",
      " 2   time_since_prep  360 non-null    float64\n",
      " 3   is_sealed        360 non-null    bool   \n",
      " 4   environment      360 non-null    object \n",
      " 5   safeForHours     360 non-null    float64\n",
      " 6   confidence       360 non-null    float64\n",
      " 7   riskLevel        360 non-null    object \n",
      "dtypes: bool(1), float64(3), object(4)\n",
      "memory usage: 20.2+ KB\n"
     ]
    }
   ],
   "source": [
    "df.info()\n"
   ]
  },
  {
   "cell_type": "code",
   "execution_count": 77,
   "id": "b2e9e352",
   "metadata": {},
   "outputs": [
    {
     "data": {
      "text/plain": [
       "food_type\n",
       "raw           90\n",
       "packaged      90\n",
       "non_veg       90\n",
       "cooked_veg    90\n",
       "Name: count, dtype: int64"
      ]
     },
     "execution_count": 77,
     "metadata": {},
     "output_type": "execute_result"
    }
   ],
   "source": [
    "df['food_type'].value_counts()"
   ]
  },
  {
   "cell_type": "code",
   "execution_count": null,
   "id": "cefa4803",
   "metadata": {},
   "outputs": [],
   "source": [
    "# Features\n",
    "X = df.drop(columns=[\"riskLevel\", \"safeForHours\"])\n",
    "\n",
    "# Targets\n",
    "y_class = df[\"riskLevel\"]        # For classification\n",
    "y_reg = df[\"safeForHours\"]       # For regression\n"
   ]
  },
  {
   "cell_type": "code",
   "execution_count": 79,
   "id": "9093ee4b",
   "metadata": {},
   "outputs": [],
   "source": [
    "from sklearn.compose import ColumnTransformer\n",
    "from sklearn.preprocessing import OneHotEncoder, StandardScaler\n",
    "\n",
    "categorical = [\"food_type\", \"storage\", \"environment\", \"is_sealed\"]\n",
    "numerical = [\"time_since_prep\", \"confidence\"]\n",
    "\n",
    "preprocessor = ColumnTransformer([\n",
    "    (\"cat\", OneHotEncoder(handle_unknown=\"ignore\"), categorical),\n",
    "    (\"num\", StandardScaler(), numerical)\n",
    "])\n"
   ]
  },
  {
   "cell_type": "code",
   "execution_count": 80,
   "id": "7256b5cf",
   "metadata": {},
   "outputs": [
    {
     "name": "stdout",
     "output_type": "stream",
     "text": [
      "Classification Report:\n",
      "               precision    recall  f1-score   support\n",
      "\n",
      "        high       0.87      0.87      0.87        23\n",
      "         low       0.83      0.89      0.86        27\n",
      "      medium       0.70      0.64      0.67        22\n",
      "\n",
      "    accuracy                           0.81        72\n",
      "   macro avg       0.80      0.80      0.80        72\n",
      "weighted avg       0.80      0.81      0.80        72\n",
      "\n"
     ]
    }
   ],
   "source": [
    "from sklearn.pipeline import Pipeline\n",
    "from sklearn.ensemble import RandomForestClassifier\n",
    "from sklearn.model_selection import train_test_split\n",
    "from sklearn.metrics import classification_report\n",
    "\n",
    "# Split\n",
    "X_train_c, X_test_c, y_train_c, y_test_c = train_test_split(X, y_class, test_size=0.2, random_state=42)\n",
    "\n",
    "# Classification pipeline\n",
    "clf_pipeline = Pipeline([\n",
    "    (\"preprocessor\", preprocessor),\n",
    "    (\"classifier\", RandomForestClassifier(random_state=42))\n",
    "])\n",
    "\n",
    "# Train\n",
    "clf_pipeline.fit(X_train_c, y_train_c)\n",
    "\n",
    "# Evaluate\n",
    "y_pred_c = clf_pipeline.predict(X_test_c)\n",
    "print(\"Classification Report:\\n\", classification_report(y_test_c, y_pred_c))\n"
   ]
  },
  {
   "cell_type": "code",
   "execution_count": 88,
   "id": "24ff3f17",
   "metadata": {},
   "outputs": [
    {
     "name": "stdout",
     "output_type": "stream",
     "text": [
      "[12.299 12.724 16.175 15.086 14.308 16.007  9.443 11.247 14.377 15.394\n",
      " 11.714 12.027 13.436 14.323 15.655 12.349 14.127 11.721 13.772 15.171\n",
      " 15.222 12.515 10.044 15.429 14.595 14.287 16.843 11.633 14.74  13.779\n",
      " 12.217 12.602 16.361 11.997 12.363 12.418 17.194 14.041  9.866 11.055\n",
      " 18.509 13.696 10.042 11.96  17.695 16.121 16.695 13.215 13.556 14.996\n",
      " 16.701 10.171 12.639 10.767 11.374 13.758 15.562  8.686 13.219  7.713\n",
      " 11.682 12.678 11.712 14.795 16.051 15.143 12.944  7.644 10.206 12.281\n",
      " 12.858 10.532]\n",
      "MAE: 5.054652777777777\n"
     ]
    }
   ],
   "source": [
    "from sklearn.ensemble import RandomForestRegressor\n",
    "from sklearn.metrics import mean_absolute_error \n",
    "from sklearn.metrics import mean_squared_error\n",
    "\n",
    "# Split\n",
    "X_train_r, X_test_r, y_train_r, y_test_r = train_test_split(X, y_reg, test_size=0.2, random_state=42)\n",
    "\n",
    "# Regression pipeline\n",
    "reg_pipeline = Pipeline([\n",
    "    (\"preprocessor\", preprocessor),\n",
    "    (\"regressor\", RandomForestRegressor(random_state=42))\n",
    "])\n",
    "\n",
    "# Train\n",
    "reg_pipeline.fit(X_train_r, y_train_r)\n",
    "\n",
    "# Evaluate\n",
    "y_pred_r = reg_pipeline.predict(X_test_r)\n",
    "print(y_pred_r)\n",
    "print(\"MAE:\", mean_absolute_error(y_test_r, y_pred_r))\n"
   ]
  },
  {
   "cell_type": "code",
   "execution_count": 92,
   "id": "eb7b60c5",
   "metadata": {},
   "outputs": [
    {
     "data": {
      "text/plain": [
       "['safeHours_model.pkl']"
      ]
     },
     "execution_count": 92,
     "metadata": {},
     "output_type": "execute_result"
    }
   ],
   "source": [
    "import joblib\n",
    "\n",
    "# Save both models\n",
    "joblib.dump(clf_pipeline, \"riskLevel_model.pkl\")\n",
    "joblib.dump(reg_pipeline, \"safeHours_model.pkl\")\n"
   ]
  },
  {
   "cell_type": "code",
   "execution_count": 103,
   "id": "6d09478b",
   "metadata": {},
   "outputs": [
    {
     "data": {
      "text/plain": [
       "'low'"
      ]
     },
     "execution_count": 103,
     "metadata": {},
     "output_type": "execute_result"
    }
   ],
   "source": [
    "# Load saved models\n",
    "clf_model = joblib.load(\"riskLevel_model.pkl\")\n",
    "reg_model = joblib.load(\"safeHours_model.pkl\")\n",
    "\n",
    "# Sample input\n",
    "sample = pd.DataFrame([{\n",
    "    \"food_type\": \"non_veg\",\n",
    "    \"storage\": \"fridge\",\n",
    "    \"time_since_prep\": 6.5,\n",
    "    \"is_sealed\": True,\n",
    "    \"environment\": \"dry\",\n",
    "    \"confidence\": 0.88\n",
    "}])\n",
    "\n",
    "# Predict\n",
    "predicted_risk = clf_model.predict(sample)[0]\n",
    "predicted_hours = reg_model.predict(sample)[0]\n",
    "\n",
    "# print(\"🛑 Predicted Risk Level:\", predicted_risk)\n",
    "# print(\"⏱️ Predicted Safe For Hours:\", round(predicted_hours, 2))\n",
    "\n",
    "predicted_risk\n"
   ]
  },
  {
   "cell_type": "code",
   "execution_count": 107,
   "id": "54de5d52",
   "metadata": {},
   "outputs": [
    {
     "name": "stdout",
     "output_type": "stream",
     "text": [
      "✅ Exported fixed classifier to 'risk_classifier.onnx'\n",
      "✅ Exported regressor to 'safe_hours_regressor.onnx'\n"
     ]
    }
   ],
   "source": [
    "import pandas as pd\n",
    "import joblib\n",
    "from skl2onnx import convert_sklearn\n",
    "from skl2onnx.common.data_types import StringTensorType, FloatTensorType\n",
    "from sklearn.model_selection import train_test_split\n",
    "\n",
    "# ------------------ STEP 1: Load Data ------------------\n",
    "df = pd.read_csv(\"food_safety_multitask_dataset.csv\")\n",
    "\n",
    "# ------------------ STEP 2: Define Feature and Target Columns ------------------\n",
    "features = [\"food_type\", \"storage\", \"time_since_prep\", \"is_sealed\", \"environment\", \"confidence\"]\n",
    "target_class = \"riskLevel\"\n",
    "target_reg = \"safeForHours\"\n",
    "\n",
    "X = df[features]\n",
    "y_class = df[target_class]\n",
    "y_reg = df[target_reg]\n",
    "\n",
    "# ------------------ STEP 3: Split Data ------------------\n",
    "X_train_class, X_test_class, y_train_class, y_test_class = train_test_split(X, y_class, test_size=0.2, random_state=42)\n",
    "X_train_reg, X_test_reg, y_train_reg, y_test_reg = train_test_split(X, y_reg, test_size=0.2, random_state=42)\n",
    "\n",
    "# ------------------ STEP 4: Load Trained Pipelines ------------------\n",
    "clf_pipeline = joblib.load(\"riskLevel_model.pkl\")\n",
    "reg_pipeline = joblib.load(\"safeHours_model.pkl\")\n",
    "\n",
    "# ------------------ STEP 5: Define Initial Types ------------------\n",
    "initial_types = []\n",
    "for col in features:\n",
    "    if X[col].dtype == object:\n",
    "        initial_types.append((col, StringTensorType([None, 1])))\n",
    "    else:\n",
    "        initial_types.append((col, FloatTensorType([None, 1])))\n",
    "\n",
    "# ------------------ STEP 6: Export Classifier to ONNX (Fix ZipMap=True issue) ------------------\n",
    "clf_options = {id(clf_pipeline): {\"zipmap\": False}}  # <- This is important for JS compatibility\n",
    "clf_onnx = convert_sklearn(clf_pipeline, initial_types=initial_types, options=clf_options)\n",
    "\n",
    "with open(\"risk_classifier.onnx\", \"wb\") as f:\n",
    "    f.write(clf_onnx.SerializeToString())\n",
    "print(\"✅ Exported fixed classifier to 'risk_classifier.onnx'\")\n",
    "\n",
    "# ------------------ STEP 7: Export Regressor to ONNX (if needed) ------------------\n",
    "reg_onnx = convert_sklearn(reg_pipeline, initial_types=initial_types)\n",
    "with open(\"safe_hours_regressor.onnx\", \"wb\") as f:\n",
    "    f.write(reg_onnx.SerializeToString())\n",
    "print(\"✅ Exported regressor to 'safe_hours_regressor.onnx'\")\n"
   ]
  }
 ],
 "metadata": {
  "kernelspec": {
   "display_name": "Python 3",
   "language": "python",
   "name": "python3"
  },
  "language_info": {
   "codemirror_mode": {
    "name": "ipython",
    "version": 3
   },
   "file_extension": ".py",
   "mimetype": "text/x-python",
   "name": "python",
   "nbconvert_exporter": "python",
   "pygments_lexer": "ipython3",
   "version": "3.12.6"
  }
 },
 "nbformat": 4,
 "nbformat_minor": 5
}
